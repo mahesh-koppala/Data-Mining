{
 "cells": [
  {
   "cell_type": "markdown",
   "metadata": {},
   "source": [
    "#  Numpy Quick Tutorial"
   ]
  },
  {
   "cell_type": "markdown",
   "metadata": {},
   "source": [
    "## What is Numpy?\n",
    "* Numpy is an open source extension library (package) for Python.\n",
    "* Numpy is written specifically to work with multidimensional arrays <span style=\"color:red\">(All the elements of the array must be the same type).</span>\n",
    "* Numpy is designed for scientific computing.\n",
    "* NumPy is often used along with packages like SciPy (Scientific Python) and matplotlib (plotting library)."
   ]
  },
  {
   "cell_type": "markdown",
   "metadata": {},
   "source": [
    "## Basics\n",
    "* Numpy's main class is <tt class=\"docutils literal\"><span class=\"pre\">ndarray</span></tt> which also has an alias <tt class=\"docutils literal\"><span class=\"pre\">array</span></tt>.\n",
    "* Useful attributes of\n",
    "an <tt class=\"docutils literal\"><span class=\"pre\">ndarray</span></tt> object are:\n",
    "\n",
    "    * <tt class=\"docutils literal\"><span class=\"pre\">ndarray.ndim</span></tt>: the number of dimensions of the array.\n",
    "    \n",
    "    * <tt class=\"docutils literal\"><span class=\"pre\">ndarray.shape</span></tt>: A tuple of integers showing the size of the array in each dimension.\n",
    "    \n",
    "    * <tt class=\"docutils literal\"><span class=\"pre\">ndarray.size</span></tt>: Total number of elements in the array.\n",
    "    \n",
    "    * <tt class=\"docutils literal\"><span class=\"pre\">ndarray.dtype</span></tt>: Type of the array elements."
   ]
  },
  {
   "cell_type": "markdown",
   "metadata": {},
   "source": [
    "# Important\n",
    "\n",
    "## A numpy <span style=\"color:red; font-family: courier;\">ndarray</span> is **NOT**  the same as a python <span style=\"color:red; font-family: courier;\">list</span>.\n",
    "\n"
   ]
  },
  {
   "cell_type": "markdown",
   "metadata": {},
   "source": [
    "## How to create arrays\n",
    "* Arrays can be created from Python sequences such as a list or a tuple. The type of resulting array depends on the type of elements in the sequences.\n",
    "### Examples"
   ]
  },
  {
   "cell_type": "code",
   "execution_count": 1,
   "metadata": {},
   "outputs": [
    {
     "data": {
      "text/plain": [
       "[1, 2, 3, 3, 2, 1]"
      ]
     },
     "execution_count": 1,
     "metadata": {},
     "output_type": "execute_result"
    }
   ],
   "source": [
    "a=[1,2,3]\n",
    "b=[3,2,1]\n",
    "a+b"
   ]
  },
  {
   "cell_type": "code",
   "execution_count": 2,
   "metadata": {},
   "outputs": [
    {
     "name": "stdout",
     "output_type": "stream",
     "text": [
      "[1, 2, 5, 3, 6, 4, 5]\n",
      "[ 2  4 10  6 12  8 10]\n",
      "<class 'list'>\n",
      "<class 'numpy.ndarray'>\n",
      "[[1 2 3]\n",
      " [9 8 7]]\n"
     ]
    }
   ],
   "source": [
    "import numpy as np\n",
    "x=[1,2,5,3,6, 4 ,5 ]\n",
    "y=np.array(x)\n",
    "z=np.array([[1,2,3],[9,8,7]]) # Create an array from a list\n",
    "print(x)\n",
    "print(y)\n",
    "print (type(x))\n",
    "print(type(y))\n",
    "print(z)"
   ]
  },
  {
   "cell_type": "code",
   "execution_count": 9,
   "metadata": {},
   "outputs": [
    {
     "data": {
      "text/plain": [
       "array([[1, 2, 3],\n",
       "       [9, 8, 7]])"
      ]
     },
     "execution_count": 9,
     "metadata": {},
     "output_type": "execute_result"
    }
   ],
   "source": [
    "np.array(((1,2,3),(9,8,7))) # Create an array from a tuple"
   ]
  },
  {
   "cell_type": "code",
   "execution_count": 3,
   "metadata": {},
   "outputs": [
    {
     "name": "stdout",
     "output_type": "stream",
     "text": [
      "float64\n",
      "[[1.01 2.   3.  ]\n",
      " [9.   8.   7.  ]]\n"
     ]
    }
   ],
   "source": [
    "a = np.array([[1,2,3],[9,8,7]]) # Type of array will be int\n",
    "print(a.dtype)\n",
    "print(a)"
   ]
  },
  {
   "cell_type": "code",
   "execution_count": 11,
   "metadata": {},
   "outputs": [
    {
     "data": {
      "text/plain": [
       "dtype('float64')"
      ]
     },
     "execution_count": 11,
     "metadata": {},
     "output_type": "execute_result"
    }
   ],
   "source": [
    "a = np.array([[1,2,3],[9,8,7]],dtype=float) # Specify type explicitly\n",
    "a.dtype"
   ]
  },
  {
   "cell_type": "markdown",
   "metadata": {},
   "source": [
    "* The function <tt class=\"docutils literal\"><span class=\"pre\">zero</span></tt> creates arrays of zeros."
   ]
  },
  {
   "cell_type": "code",
   "execution_count": 12,
   "metadata": {},
   "outputs": [
    {
     "data": {
      "text/plain": [
       "array([[0., 0., 0., 0., 0., 0., 0.],\n",
       "       [0., 0., 0., 0., 0., 0., 0.],\n",
       "       [0., 0., 0., 0., 0., 0., 0.]])"
      ]
     },
     "execution_count": 12,
     "metadata": {},
     "output_type": "execute_result"
    }
   ],
   "source": [
    "np.zeros((3,7)) # Create array of zeros"
   ]
  },
  {
   "cell_type": "markdown",
   "metadata": {},
   "source": [
    "* The function <tt class=\"docutils literal\"><span class=\"pre\">ones</span></tt> creates arrays of ones."
   ]
  },
  {
   "cell_type": "code",
   "execution_count": 13,
   "metadata": {},
   "outputs": [
    {
     "data": {
      "text/plain": [
       "array([[1., 1.],\n",
       "       [1., 1.],\n",
       "       [1., 1.]])"
      ]
     },
     "execution_count": 13,
     "metadata": {},
     "output_type": "execute_result"
    }
   ],
   "source": [
    "np.ones((3,2)) # Create array of ones"
   ]
  },
  {
   "cell_type": "markdown",
   "metadata": {},
   "source": [
    "* The function <tt class=\"docutils literal\"><span class=\"pre\">arange</span></tt> creates sequence of numbers."
   ]
  },
  {
   "cell_type": "code",
   "execution_count": 5,
   "metadata": {},
   "outputs": [
    {
     "data": {
      "text/plain": [
       "array([0. , 0.4, 0.8, 1.2, 1.6, 2. , 2.4, 2.8, 3.2, 3.6, 4. , 4.4, 4.8])"
      ]
     },
     "execution_count": 5,
     "metadata": {},
     "output_type": "execute_result"
    }
   ],
   "source": [
    "np.arange( 0, 5, .4 ) # Create array from a sequence of numbers"
   ]
  },
  {
   "cell_type": "markdown",
   "metadata": {},
   "source": [
    "* The function <tt class=\"docutils literal\"><span class=\"pre\">linspace</span></tt> can also create sequence of numbers."
   ]
  },
  {
   "cell_type": "code",
   "execution_count": 15,
   "metadata": {},
   "outputs": [
    {
     "data": {
      "text/plain": [
       "array([0.1 , 0.25, 0.4 , 0.55, 0.7 ])"
      ]
     },
     "execution_count": 15,
     "metadata": {},
     "output_type": "execute_result"
    }
   ],
   "source": [
    "np.linspace(.1,.7,5 ) # Create 5 linearly spaced numbers from .1 to .7"
   ]
  },
  {
   "cell_type": "markdown",
   "metadata": {},
   "source": [
    "<a id=\"I_indexterm4_d1e5084\" class=\"indexterm\"></a><a id=\"I_indexterm4_d1e5085\" class=\"indexterm\"></a><a id=\"I_indexterm4_d1e5086\" class=\"indexterm\"></a></p><div class=\"table\"><a id=\"table_array_ctor\"></a><p class=\"title\">Array creation functions</p><div class=\"table-contents\"><table summary=\"Array creation functions\" style=\"border-collapse: collapse;border-top: 0.5pt solid ; border-bottom: 0.5pt solid ; border-left: 0.5pt solid ; border-right: 0.5pt solid ; \"><colgroup><col width=\"1.5in\"><col></colgroup><thead><tr><th style=\"border-right: 0.5pt solid ; border-bottom: 0.5pt solid ; \">Function</th><th style=\"border-bottom: 0.5pt solid ; \">Description</th></tr></thead><tbody><tr><td style=\"border-right: 0.5pt solid ; border-bottom: 0.5pt solid ; \"><code class=\"literal\">array</code></td><td style=\"border-bottom: 0.5pt solid ; \">Convert input data (list, tuple, or other sequence\n",
    "              type) to an ndarray either by inferring a dtype or explicitly\n",
    "              specifying a dtype. Copies the input data by default.</td></tr><tr><td style=\"border-right: 0.5pt solid ; border-bottom: 0.5pt solid ; \"><a id=\"I_indexterm4_d1e5108\" class=\"indexterm\"></a><code class=\"literal\">asarray</code></td><td style=\"border-bottom: 0.5pt solid ; \">Convert input to ndarray, but do not copy if the input is\n",
    "              already an ndarray</td></tr><tr><td style=\"border-right: 0.5pt solid ; border-bottom: 0.5pt solid ; \"><a id=\"I_indexterm4_d1e5117\" class=\"indexterm\"></a><code class=\"literal\">arange</code></td><td style=\"border-bottom: 0.5pt solid ; \">Like the built-in <code class=\"literal\">range</code> but returns an ndarray instead\n",
    "              of a list.</td></tr><tr><td style=\"border-right: 0.5pt solid ; border-bottom: 0.5pt solid ; \"><code class=\"literal\">ones</code></td><td style=\"border-bottom: 0.5pt solid ; \">Produce an array of all 1’s.\n",
    "              </td></tr><tr><td style=\"border-right: 0.5pt solid ; border-bottom: 0.5pt solid ; \"><code class=\"literal\">ones_like</code></td><td style=\"border-bottom: 0.5pt solid ; \">Produces a ones array of the same shape and data type as the given array</td></tr><tr><td style=\"border-right: 0.5pt solid ; border-bottom: 0.5pt solid ; \"><code class=\"literal\">zeros</code></td><td style=\"border-bottom: 0.5pt solid ; \">Produce an array of all 0's.</td></tr><tr><td style=\"border-right: 0.5pt solid ; border-bottom: 0.5pt solid ; \"><code class=\"literal\">zeros_like</code></td><td style=\"border-bottom: 0.5pt solid ; \">Produces an array of all zeros of the same shape and data type as the given array <tr><td style=\"border-right: 0.5pt solid ; \"><code class=\"literal\">identity</code></td><td style=\"\">Create a square identity matrix </td></tr></tbody></table></div></div></div>"
   ]
  },
  {
   "cell_type": "markdown",
   "metadata": {},
   "source": [
    "## Shape Manipulation\n",
    "* The function <tt class=\"docutils literal\"><span class=\"pre\">reshape</span></tt> changes the shape of an array."
   ]
  },
  {
   "cell_type": "code",
   "execution_count": 7,
   "metadata": {},
   "outputs": [
    {
     "name": "stdout",
     "output_type": "stream",
     "text": [
      "a =  [1. 2. 3. 4. 5. 6.]\n",
      "b =  [[1. 2. 3.]\n",
      " [4. 5. 6.]]\n"
     ]
    }
   ],
   "source": [
    "a=np.linspace(1,6,6 ) # Create a 1 by 6 array\n",
    "b=a.reshape(2,3) # Reshape the array into a 3 by 2 array\n",
    "print(\"a = \",a)\n",
    "print(\"b = \",b)"
   ]
  },
  {
   "cell_type": "markdown",
   "metadata": {},
   "source": [
    "* The function <tt class=\"docutils literal\"><span class=\"pre\">ravel</span></tt> flattens an array."
   ]
  },
  {
   "cell_type": "code",
   "execution_count": 8,
   "metadata": {},
   "outputs": [
    {
     "name": "stdout",
     "output_type": "stream",
     "text": [
      "a =  [[ 1  4  9]\n",
      " [81 64 49]]\n",
      "b =  [ 1  4  9 81 64 49]\n"
     ]
    }
   ],
   "source": [
    "a = np.array([[1,2,3],[9,8,7]]) # create a 2 by 3 array\n",
    "b=a.ravel()\n",
    "print(\"a = \",a)\n",
    "print(\"b = \",b)"
   ]
  },
  {
   "cell_type": "markdown",
   "metadata": {},
   "source": [
    "## Universal Functions\n",
    "* Universal functions are familiar functions such as <tt class=\"docutils literal\"><span class=\"pre\">sin, cos, exp. sqrt.</span></tt> These functions operate elementwise on an array and produce another array as output."
   ]
  },
  {
   "cell_type": "code",
   "execution_count": 18,
   "metadata": {},
   "outputs": [
    {
     "name": "stdout",
     "output_type": "stream",
     "text": [
      "[[0.84147098 0.90929743 0.14112001]\n",
      " [0.41211849 0.98935825 0.6569866 ]]\n"
     ]
    }
   ],
   "source": [
    "a = np.array([[1,2,3],[9,8,7]]) # create a 2 by 3 array\n",
    "b = np.sin(a)\n",
    "print (b)"
   ]
  },
  {
   "cell_type": "markdown",
   "metadata": {},
   "source": [
    "## Basic Array Operations\n",
    "<span style=\"color:red; background-color:#aaaaaa; font-size:24px; line-height:12px\">NOTE :</span>\n",
    "All arithmetic operations in numpy are applied **elementwise**. This includes multiplication and division of arrays. **The matrix product of two arrays should be performed by using the <tt class=\"docutils literal\"><span class=\"pre\">dot</span></tt> function.** \n"
   ]
  },
  {
   "cell_type": "markdown",
   "metadata": {},
   "source": [
    "* Scalar operations"
   ]
  },
  {
   "cell_type": "code",
   "execution_count": 9,
   "metadata": {},
   "outputs": [
    {
     "data": {
      "text/plain": [
       "array([11, 12, 13, 14])"
      ]
     },
     "execution_count": 9,
     "metadata": {},
     "output_type": "execute_result"
    }
   ],
   "source": [
    "a = np.array([1, 2, 3, 4])\n",
    "a+10  # Scalar, 5, is added to every element of array"
   ]
  },
  {
   "cell_type": "code",
   "execution_count": 20,
   "metadata": {},
   "outputs": [
    {
     "data": {
      "text/plain": [
       "array([ 3,  6,  9, 12])"
      ]
     },
     "execution_count": 20,
     "metadata": {},
     "output_type": "execute_result"
    }
   ],
   "source": [
    "a = np.array([1, 2, 3, 4])\n",
    "a*3  # Every element of array is multiplied by the scalar"
   ]
  },
  {
   "cell_type": "code",
   "execution_count": 11,
   "metadata": {},
   "outputs": [
    {
     "ename": "TypeError",
     "evalue": "only size-1 arrays can be converted to Python scalars",
     "output_type": "error",
     "traceback": [
      "\u001b[1;31m---------------------------------------------------------------------------\u001b[0m",
      "\u001b[1;31mTypeError\u001b[0m                                 Traceback (most recent call last)",
      "\u001b[1;32m<ipython-input-11-8e22b0b0ab54>\u001b[0m in \u001b[0;36m<module>\u001b[1;34m\u001b[0m\n\u001b[0;32m      1\u001b[0m \u001b[0ma\u001b[0m \u001b[1;33m=\u001b[0m \u001b[0mnp\u001b[0m\u001b[1;33m.\u001b[0m\u001b[0marray\u001b[0m\u001b[1;33m(\u001b[0m\u001b[1;33m[\u001b[0m\u001b[1;36m1\u001b[0m\u001b[1;33m,\u001b[0m \u001b[1;36m2\u001b[0m\u001b[1;33m,\u001b[0m \u001b[1;36m3\u001b[0m\u001b[1;33m,\u001b[0m \u001b[1;36m4\u001b[0m\u001b[1;33m]\u001b[0m\u001b[1;33m)\u001b[0m\u001b[1;33m\u001b[0m\u001b[0m\n\u001b[1;32m----> 2\u001b[1;33m \u001b[0mint\u001b[0m\u001b[1;33m(\u001b[0m\u001b[0ma\u001b[0m\u001b[1;33m/\u001b[0m\u001b[1;36m3\u001b[0m\u001b[1;33m)\u001b[0m \u001b[1;31m# Every element of array is divided by the scalar\u001b[0m\u001b[1;33m\u001b[0m\u001b[0m\n\u001b[0m",
      "\u001b[1;31mTypeError\u001b[0m: only size-1 arrays can be converted to Python scalars"
     ]
    }
   ],
   "source": [
    "a = np.array([1, 2, 3, 4])\n",
    "ia/3 # Every element of array is divided by the scalar"
   ]
  },
  {
   "cell_type": "markdown",
   "metadata": {},
   "source": [
    "* Elementwise Array operations"
   ]
  },
  {
   "cell_type": "code",
   "execution_count": 22,
   "metadata": {},
   "outputs": [
    {
     "name": "stdout",
     "output_type": "stream",
     "text": [
      "a=  [[1 2 3]\n",
      " [9 8 7]]\n",
      "b=  [[6 5 4]\n",
      " [2 4 6]]\n",
      "c=  [[ 6 10 12]\n",
      " [18 32 42]]\n"
     ]
    },
    {
     "ename": "ValueError",
     "evalue": "shapes (2,3) and (2,3) not aligned: 3 (dim 1) != 2 (dim 0)",
     "output_type": "error",
     "traceback": [
      "\u001b[1;31m---------------------------------------------------------------------------\u001b[0m",
      "\u001b[1;31mValueError\u001b[0m                                Traceback (most recent call last)",
      "\u001b[1;32m<ipython-input-22-19de89f0e6e1>\u001b[0m in \u001b[0;36m<module>\u001b[1;34m\u001b[0m\n\u001b[0;32m      5\u001b[0m \u001b[0mc\u001b[0m\u001b[1;33m=\u001b[0m\u001b[0ma\u001b[0m\u001b[1;33m*\u001b[0m\u001b[0mb\u001b[0m \u001b[1;31m# Elementwise multiplication\u001b[0m\u001b[1;33m\u001b[0m\u001b[0m\n\u001b[0;32m      6\u001b[0m \u001b[0mprint\u001b[0m\u001b[1;33m(\u001b[0m\u001b[1;34m\"c= \"\u001b[0m\u001b[1;33m,\u001b[0m\u001b[0mc\u001b[0m\u001b[1;33m)\u001b[0m\u001b[1;33m\u001b[0m\u001b[0m\n\u001b[1;32m----> 7\u001b[1;33m \u001b[0md\u001b[0m\u001b[1;33m=\u001b[0m\u001b[0mnp\u001b[0m\u001b[1;33m.\u001b[0m\u001b[0mdot\u001b[0m\u001b[1;33m(\u001b[0m\u001b[0ma\u001b[0m\u001b[1;33m,\u001b[0m\u001b[0mb\u001b[0m\u001b[1;33m)\u001b[0m \u001b[1;31m#Notice: this will create an error\u001b[0m\u001b[1;33m\u001b[0m\u001b[0m\n\u001b[0m\u001b[0;32m      8\u001b[0m \u001b[0mprint\u001b[0m\u001b[1;33m(\u001b[0m\u001b[0md\u001b[0m\u001b[1;33m)\u001b[0m\u001b[1;33m\u001b[0m\u001b[0m\n",
      "\u001b[1;32m<__array_function__ internals>\u001b[0m in \u001b[0;36mdot\u001b[1;34m(*args, **kwargs)\u001b[0m\n",
      "\u001b[1;31mValueError\u001b[0m: shapes (2,3) and (2,3) not aligned: 3 (dim 1) != 2 (dim 0)"
     ]
    }
   ],
   "source": [
    "a=np.array([[1,2,3],[9,8,7]])\n",
    "b=np.array([[6,5,4],[2,4,6]])\n",
    "print(\"a= \",a)\n",
    "print(\"b= \",b)\n",
    "c=a*b # Elementwise multiplication\n",
    "print(\"c= \",c)\n",
    "d=np.dot(a,b) #Notice: this will create an error\n",
    "print(d)"
   ]
  },
  {
   "cell_type": "code",
   "execution_count": 24,
   "metadata": {},
   "outputs": [
    {
     "data": {
      "text/plain": [
       "array([[0.16666667, 0.4       , 0.75      ],\n",
       "       [4.5       , 2.        , 1.16666667]])"
      ]
     },
     "execution_count": 24,
     "metadata": {},
     "output_type": "execute_result"
    }
   ],
   "source": [
    "a=np.array([[1,2,3],[9,8,7]])\n",
    "b=np.array([[6,5,4],[2,4,6]])\n",
    "a/b # Elementwise division"
   ]
  },
  {
   "cell_type": "markdown",
   "metadata": {},
   "source": [
    "* Mathematical Array operations vs. Elementwise Array operations"
   ]
  },
  {
   "cell_type": "code",
   "execution_count": 23,
   "metadata": {},
   "outputs": [
    {
     "name": "stdout",
     "output_type": "stream",
     "text": [
      "c =  [[ 6 10]\n",
      " [18 32]]\n",
      "d =  [[10 13]\n",
      " [70 77]]\n"
     ]
    }
   ],
   "source": [
    "a=np.array([[1,2],[9,8]])\n",
    "b=np.array([[6,5],[2,4]])\n",
    "c=a*b # Elementwise multiplication\n",
    "d=np.dot(a,b) # Mathematical multiplication\n",
    "print(\"c = \",c)\n",
    "print(\"d = \",d)"
   ]
  },
  {
   "cell_type": "markdown",
   "metadata": {},
   "source": [
    "## Links to numpy tutorials\n",
    "* http://www.scipy-lectures.org/intro/numpy/numpy.html\n",
    "* https://github.com/Pybonacci/scipy-lecture-notes-ES/blob/master/intro/numpy/operations.rst\n",
    "* https://www.safaribooksonline.com/library/view/python-for-data/9781449323592/ch04.html\n",
    "\n",
    "\n"
   ]
  }
 ],
 "metadata": {
  "anaconda-cloud": {},
  "hide_input": false,
  "kernelspec": {
   "display_name": "Python 3",
   "language": "python",
   "name": "python3"
  },
  "language_info": {
   "codemirror_mode": {
    "name": "ipython",
    "version": 3
   },
   "file_extension": ".py",
   "mimetype": "text/x-python",
   "name": "python",
   "nbconvert_exporter": "python",
   "pygments_lexer": "ipython3",
   "version": "3.7.6"
  },
  "toc": {
   "base_numbering": 1,
   "nav_menu": {},
   "number_sections": false,
   "sideBar": false,
   "skip_h1_title": false,
   "title_cell": "Table of Contents",
   "title_sidebar": "Contents",
   "toc_cell": false,
   "toc_position": {},
   "toc_section_display": true,
   "toc_window_display": false
  },
  "varInspector": {
   "cols": {
    "lenName": 16,
    "lenType": 16,
    "lenVar": 40
   },
   "kernels_config": {
    "python": {
     "delete_cmd_postfix": "",
     "delete_cmd_prefix": "del ",
     "library": "var_list.py",
     "varRefreshCmd": "print(var_dic_list())"
    },
    "r": {
     "delete_cmd_postfix": ") ",
     "delete_cmd_prefix": "rm(",
     "library": "var_list.r",
     "varRefreshCmd": "cat(var_dic_list()) "
    }
   },
   "types_to_exclude": [
    "module",
    "function",
    "builtin_function_or_method",
    "instance",
    "_Feature"
   ],
   "window_display": false
  }
 },
 "nbformat": 4,
 "nbformat_minor": 1
}
